{
  "nbformat": 4,
  "nbformat_minor": 0,
  "metadata": {
    "colab": {
      "provenance": []
    },
    "kernelspec": {
      "name": "python3",
      "display_name": "Python 3"
    },
    "language_info": {
      "name": "python"
    }
  },
  "cells": [
    {
      "cell_type": "markdown",
      "source": [
        "# Import Libraries\n"
      ],
      "metadata": {
        "id": "pRcftTLFL0e-"
      }
    },
    {
      "cell_type": "code",
      "source": [
        "import pandas as pd\n",
        "import numpy as np\n",
        "import matplotlib.pyplot as plt\n",
        "import seaborn as sns\n",
        "\n",
        "from sklearn.impute import SimpleImputer\n",
        "from sklearn.preprocessing import StandardScaler\n",
        "from sklearn.metrics import (classification_report, accuracy_score, roc_auc_score,\n",
        "                             roc_curve, confusion_matrix, precision_score,\n",
        "                             recall_score, f1_score, log_loss, balanced_accuracy_score)\n",
        "\n",
        "from tensorflow.keras.models import Sequential\n",
        "from tensorflow.keras.layers import Dense, Dropout, LeakyReLU\n",
        "from tensorflow.keras.callbacks import EarlyStopping, ModelCheckpoint\n"
      ],
      "metadata": {
        "id": "WFXNA1RJLv5Z"
      },
      "execution_count": 19,
      "outputs": []
    },
    {
      "cell_type": "markdown",
      "source": [
        "#Load Dataset"
      ],
      "metadata": {
        "id": "d6ZCKhcbMQkK"
      }
    },
    {
      "cell_type": "code",
      "source": [
        "\n",
        "X_train = pd.read_csv(\"/content/X_Train_Data_Input.csv\")\n",
        "X_test = pd.read_csv(\"/content/X_Test_Data_Input.csv\")\n",
        "Y_train = pd.read_csv(\"/content/Y_Train_Data_Target.csv\")\n",
        "Y_test = pd.read_csv(\"/content/Y_Test_Data_Target.csv\")\n",
        "\n",
        "# Display the first few rows of the datasets for verification\n",
        "print(\"X_train sample:\")\n",
        "print(X_train.head())\n",
        "print(\"\\nY_train sample:\")\n",
        "print(Y_train.head())\n"
      ],
      "metadata": {
        "colab": {
          "base_uri": "https://localhost:8080/"
        },
        "id": "s6cIgePpLz0g",
        "outputId": "ea43bec2-8ba7-4721-e8c2-a68fc889a6aa"
      },
      "execution_count": 20,
      "outputs": [
        {
          "output_type": "stream",
          "name": "stdout",
          "text": [
            "X_train sample:\n",
            "                                 ID  Column0  Column1  Column2   Column3  \\\n",
            "0  ad1a67e4cbddc767a3456b0d94299b9e      2.0     2495   3726.0  0.678139   \n",
            "1  7246d2f76ac0c217ec25e72ea5f014cb      0.0     2495   3454.0  0.452580   \n",
            "2  22ba388e7dd14c13342c49e75fc29dda      2.0     2495   4543.0 -1.577453   \n",
            "3  59f9b981472d97342587fb3e6392aeb1      0.0      211     59.0       NaN   \n",
            "4  f6317cf7ecf126859804eddff279aead      0.0      718    950.0 -2.028572   \n",
            "\n",
            "    Column4   Column5   Column6   Column7   Column8  ...  Column12  Column13  \\\n",
            "0  0.701403 -0.007468  0.434190 -0.015603  0.606265  ...         0         0   \n",
            "1  0.701403 -0.007468  1.554998 -0.015574  0.329946  ...         0         0   \n",
            "2 -1.429540 -0.007469 -0.407939 -0.015607 -0.774979  ...         1         1   \n",
            "3       NaN       NaN -0.407939 -0.015607 -0.774979  ...         0         0   \n",
            "4 -1.855728       NaN -0.407939 -0.015607 -0.774979  ...         0         0   \n",
            "\n",
            "   Column14  Column15  Column16  Column17  Column18  Column19  Column20  \\\n",
            "0  0.001351   0.00339       0.0         0       0.0         0         0   \n",
            "1  0.001351   0.00339       0.0         0       0.0         0         0   \n",
            "2  0.001351   0.00339       0.0         0       0.0         0         0   \n",
            "3       NaN   0.00339       0.0         0       1.0         0         0   \n",
            "4       NaN   0.00339       0.0         0       0.0         0         0   \n",
            "\n",
            "   Column21  \n",
            "0         0  \n",
            "1         0  \n",
            "2         0  \n",
            "3         0  \n",
            "4         0  \n",
            "\n",
            "[5 rows x 23 columns]\n",
            "\n",
            "Y_train sample:\n",
            "                                 ID  target\n",
            "0  ad1a67e4cbddc767a3456b0d94299b9e       0\n",
            "1  7246d2f76ac0c217ec25e72ea5f014cb       0\n",
            "2  22ba388e7dd14c13342c49e75fc29dda       0\n",
            "3  59f9b981472d97342587fb3e6392aeb1       1\n",
            "4  f6317cf7ecf126859804eddff279aead       0\n"
          ]
        }
      ]
    },
    {
      "cell_type": "markdown",
      "source": [
        "#Data preprocessing\n"
      ],
      "metadata": {
        "id": "61SvSh6DMS9G"
      }
    },
    {
      "cell_type": "code",
      "source": [
        "\n",
        "# Drop the ID column from both X_train and X_test as it is not needed for training\n",
        "X_train_cleaned = X_train.drop(columns=[\"ID\"])\n",
        "X_test_cleaned = X_test.drop(columns=[\"ID\"])\n",
        "\n",
        "# Handle missing values using median imputation to fill in any gaps in the dataset\n",
        "imputer = SimpleImputer(strategy='median')\n",
        "X_train_imputed = imputer.fit_transform(X_train_cleaned)\n",
        "X_test_imputed = imputer.transform(X_test_cleaned)\n",
        "\n",
        "# Standardize the features (scaling) to have zero mean and unit variance\n",
        "scaler = StandardScaler()\n",
        "X_train_scaled = scaler.fit_transform(X_train_imputed)\n",
        "X_test_scaled = scaler.transform(X_test_imputed)\n"
      ],
      "metadata": {
        "id": "8Qmj1JV-L9_o"
      },
      "execution_count": 21,
      "outputs": []
    },
    {
      "cell_type": "markdown",
      "source": [
        "#Model Architecture"
      ],
      "metadata": {
        "id": "DEGR7cbyMXCD"
      }
    },
    {
      "cell_type": "code",
      "source": [
        "# Build a neural network model\n",
        "model = Sequential([\n",
        "    Dense(128, input_shape=(X_train_scaled.shape[1],)),  # First hidden layer\n",
        "    LeakyReLU(alpha=0.1),  # Leaky ReLU activation function\n",
        "    Dropout(0.3),  # Dropout layer to prevent overfitting\n",
        "\n",
        "    Dense(64),  # Second hidden layer\n",
        "    LeakyReLU(alpha=0.1),\n",
        "    Dropout(0.3),  # Another dropout layer\n",
        "\n",
        "    Dense(1, activation='sigmoid')  # Output layer for binary classification\n",
        "])\n",
        "\n",
        "# Compile the model with Adam optimizer and binary crossentropy loss\n",
        "model.compile(optimizer='adam', loss='binary_crossentropy', metrics=['accuracy'])\n"
      ],
      "metadata": {
        "colab": {
          "base_uri": "https://localhost:8080/"
        },
        "id": "1U4v_BMCMBuc",
        "outputId": "16aab374-c6e0-405e-e177-cfec78dfc8af"
      },
      "execution_count": 22,
      "outputs": [
        {
          "output_type": "stream",
          "name": "stderr",
          "text": [
            "/usr/local/lib/python3.10/dist-packages/keras/src/layers/core/dense.py:87: UserWarning: Do not pass an `input_shape`/`input_dim` argument to a layer. When using Sequential models, prefer using an `Input(shape)` object as the first layer in the model instead.\n",
            "  super().__init__(activity_regularizer=activity_regularizer, **kwargs)\n",
            "/usr/local/lib/python3.10/dist-packages/keras/src/layers/activations/leaky_relu.py:41: UserWarning: Argument `alpha` is deprecated. Use `negative_slope` instead.\n",
            "  warnings.warn(\n"
          ]
        }
      ]
    },
    {
      "cell_type": "markdown",
      "source": [
        "#Model Training"
      ],
      "metadata": {
        "id": "dx9e75J5McMO"
      }
    },
    {
      "cell_type": "code",
      "source": [
        "# Define callbacks for early stopping and model checkpointing\n",
        "callbacks = [\n",
        "    EarlyStopping(monitor='val_loss', patience=5, restore_best_weights=True),  # Stop training when validation loss stops improving\n",
        "    ModelCheckpoint('best_model.keras', save_best_only=True, monitor='val_loss', mode='min')  # Save the best model\n",
        "]\n",
        "\n",
        "# Train the model using the training data and validate using the test data\n",
        "history = model.fit(\n",
        "    X_train_scaled,\n",
        "    Y_train['target'],  # Ensure 'target' is the correct column name\n",
        "    epochs=25,\n",
        "    batch_size=32,\n",
        "    validation_data=(X_test_scaled, Y_test['target']),\n",
        "    callbacks=callbacks,\n",
        "    verbose=2  # Verbose output to see training progress\n",
        ")\n"
      ],
      "metadata": {
        "colab": {
          "base_uri": "https://localhost:8080/"
        },
        "id": "UywZPmefMELr",
        "outputId": "3bdde402-72f2-4907-8b53-22df4fd77df0"
      },
      "execution_count": 23,
      "outputs": [
        {
          "output_type": "stream",
          "name": "stdout",
          "text": [
            "Epoch 1/25\n",
            "24536/24536 - 73s - 3ms/step - accuracy: 0.9711 - loss: 0.0647 - val_accuracy: 0.9743 - val_loss: 0.0593\n",
            "Epoch 2/25\n",
            "24536/24536 - 87s - 4ms/step - accuracy: 0.9730 - loss: 0.0604 - val_accuracy: 0.9741 - val_loss: 0.0585\n",
            "Epoch 3/25\n",
            "24536/24536 - 68s - 3ms/step - accuracy: 0.9736 - loss: 0.0598 - val_accuracy: 0.9746 - val_loss: 0.0587\n",
            "Epoch 4/25\n",
            "24536/24536 - 54s - 2ms/step - accuracy: 0.9738 - loss: 0.0595 - val_accuracy: 0.9751 - val_loss: 0.0569\n",
            "Epoch 5/25\n",
            "24536/24536 - 100s - 4ms/step - accuracy: 0.9740 - loss: 0.0589 - val_accuracy: 0.9745 - val_loss: 0.0570\n",
            "Epoch 6/25\n",
            "24536/24536 - 52s - 2ms/step - accuracy: 0.9741 - loss: 0.0593 - val_accuracy: 0.9742 - val_loss: 0.0576\n",
            "Epoch 7/25\n",
            "24536/24536 - 84s - 3ms/step - accuracy: 0.9741 - loss: 0.0594 - val_accuracy: 0.9752 - val_loss: 0.0571\n",
            "Epoch 8/25\n",
            "24536/24536 - 54s - 2ms/step - accuracy: 0.9742 - loss: 0.0590 - val_accuracy: 0.9751 - val_loss: 0.0568\n",
            "Epoch 9/25\n",
            "24536/24536 - 83s - 3ms/step - accuracy: 0.9742 - loss: 0.0590 - val_accuracy: 0.9753 - val_loss: 0.0568\n",
            "Epoch 10/25\n",
            "24536/24536 - 81s - 3ms/step - accuracy: 0.9742 - loss: 0.0589 - val_accuracy: 0.9753 - val_loss: 0.0563\n",
            "Epoch 11/25\n",
            "24536/24536 - 81s - 3ms/step - accuracy: 0.9742 - loss: 0.0592 - val_accuracy: 0.9748 - val_loss: 0.0584\n",
            "Epoch 12/25\n",
            "24536/24536 - 67s - 3ms/step - accuracy: 0.9742 - loss: 0.0588 - val_accuracy: 0.9757 - val_loss: 0.0568\n",
            "Epoch 13/25\n",
            "24536/24536 - 54s - 2ms/step - accuracy: 0.9742 - loss: 0.0592 - val_accuracy: 0.9752 - val_loss: 0.0572\n",
            "Epoch 14/25\n",
            "24536/24536 - 53s - 2ms/step - accuracy: 0.9743 - loss: 0.0589 - val_accuracy: 0.9756 - val_loss: 0.0567\n",
            "Epoch 15/25\n",
            "24536/24536 - 54s - 2ms/step - accuracy: 0.9743 - loss: 0.0591 - val_accuracy: 0.9755 - val_loss: 0.0572\n"
          ]
        }
      ]
    },
    {
      "cell_type": "markdown",
      "source": [
        "#Predictions"
      ],
      "metadata": {
        "id": "5XBCTvjqMgaD"
      }
    },
    {
      "cell_type": "code",
      "source": [
        "# Make predictions on the test set\n",
        "Y_pred_proba = model.predict(X_test_scaled).flatten()  # Get predicted probabilities\n",
        "Y_pred = (Y_pred_proba > 0.6).astype(int)  # Convert probabilities to binary predictions with threshold 0.6\n"
      ],
      "metadata": {
        "colab": {
          "base_uri": "https://localhost:8080/"
        },
        "id": "NbJMOhpjMFjJ",
        "outputId": "af1f37a2-936f-49cd-e86d-1594fb46e838"
      },
      "execution_count": 24,
      "outputs": [
        {
          "output_type": "stream",
          "name": "stdout",
          "text": [
            "\u001b[1m8179/8179\u001b[0m \u001b[32m━━━━━━━━━━━━━━━━━━━━\u001b[0m\u001b[37m\u001b[0m \u001b[1m33s\u001b[0m 4ms/step\n"
          ]
        }
      ]
    },
    {
      "cell_type": "markdown",
      "source": [
        "#Model Evaluation"
      ],
      "metadata": {
        "id": "8l6ngDSyMqFz"
      }
    },
    {
      "cell_type": "code",
      "source": [
        "# Evaluate predictions with a detailed classification report\n",
        "print(classification_report(Y_test['target'], Y_pred))\n",
        "\n",
        "# Calculate various evaluation metrics\n",
        "metrics = {\n",
        "    'Accuracy': accuracy_score(Y_test['target'], Y_pred),\n",
        "    'AUC-ROC': roc_auc_score(Y_test['target'], Y_pred_proba),\n",
        "    'Precision': precision_score(Y_test['target'], Y_pred),\n",
        "    'Recall': recall_score(Y_test['target'], Y_pred),\n",
        "    'F1 Score': f1_score(Y_test['target'], Y_pred),\n",
        "    'Balanced Accuracy': balanced_accuracy_score(Y_test['target'], Y_pred),\n",
        "    'Log Loss': log_loss(Y_test['target'], Y_pred_proba)\n",
        "}\n",
        "\n",
        "# Display calculated metrics\n",
        "for metric, value in metrics.items():\n",
        "    print(f\"{metric}: {value:.4f}\")\n"
      ],
      "metadata": {
        "colab": {
          "base_uri": "https://localhost:8080/"
        },
        "id": "zcDckVidMGuw",
        "outputId": "498d20c4-1bf1-4db0-d68a-1d1113e7884f"
      },
      "execution_count": 25,
      "outputs": [
        {
          "output_type": "stream",
          "name": "stdout",
          "text": [
            "              precision    recall  f1-score   support\n",
            "\n",
            "           0       0.99      0.98      0.99    237034\n",
            "           1       0.84      0.91      0.87     24678\n",
            "\n",
            "    accuracy                           0.98    261712\n",
            "   macro avg       0.92      0.94      0.93    261712\n",
            "weighted avg       0.98      0.98      0.98    261712\n",
            "\n",
            "Accuracy: 0.9753\n",
            "AUC-ROC: 0.9933\n",
            "Precision: 0.8437\n",
            "Recall: 0.9062\n",
            "F1 Score: 0.8738\n",
            "Balanced Accuracy: 0.9443\n",
            "Log Loss: 0.0559\n"
          ]
        }
      ]
    },
    {
      "cell_type": "markdown",
      "source": [
        "##Confusion Matrix"
      ],
      "metadata": {
        "id": "eRl69hwhMsdf"
      }
    },
    {
      "cell_type": "code",
      "source": [
        "# Generate and visualize the confusion matrix\n",
        "conf_matrix = confusion_matrix(Y_test['target'], Y_pred)\n",
        "plt.figure(figsize=(6, 4))\n",
        "sns.heatmap(conf_matrix, annot=True, fmt='d', cmap='Blues', cbar=False,\n",
        "            xticklabels=['Predicted Negative', 'Predicted Positive'],\n",
        "            yticklabels=['Actual Negative', 'Actual Positive'])\n",
        "plt.title('Confusion Matrix')\n",
        "plt.xlabel('Predicted Labels')\n",
        "plt.ylabel('True Labels')\n",
        "plt.show()\n"
      ],
      "metadata": {
        "colab": {
          "base_uri": "https://localhost:8080/",
          "height": 410
        },
        "id": "P4nfNAIGMH72",
        "outputId": "39baa5f4-1d49-440a-8417-d448c4dc3c9d"
      },
      "execution_count": 26,
      "outputs": [
        {
          "output_type": "display_data",
          "data": {
            "text/plain": [
              "<Figure size 600x400 with 1 Axes>"
            ],
            "image/png": "[encoded data removed]"
          },
          "metadata": {}
        }
      ]
    },
    {
      "cell_type": "markdown",
      "source": [
        "##ROC Curve"
      ],
      "metadata": {
        "id": "VjngHq9EMvT5"
      }
    },
    {
      "cell_type": "code",
      "source": [
        "# Plot the ROC curve to visualize the trade-off between true positive rate and false positive rate\n",
        "fpr, tpr, _ = roc_curve(Y_test['target'], Y_pred_proba)\n",
        "plt.figure()\n",
        "plt.plot(fpr, tpr, color='blue', label=f'ROC curve (area = {roc_auc_score(Y_test[\"target\"], Y_pred_proba):.4f})')\n",
        "plt.plot([0, 1], [0, 1], color='gray', linestyle='--')  # Diagonal line for random chance\n",
        "plt.xlim([0.0, 1.0])\n",
        "plt.ylim([0.0, 1.05])\n",
        "plt.xlabel('False Positive Rate')\n",
        "plt.ylabel('True Positive Rate')\n",
        "plt.title('Receiver Operating Characteristic (ROC) Curve')\n",
        "plt.legend(loc='lower right')\n",
        "plt.show()\n"
      ],
      "metadata": {
        "colab": {
          "base_uri": "https://localhost:8080/",
          "height": 472
        },
        "id": "l4XJSxnQMJDz",
        "outputId": "1f517353-0e8d-4eaf-cb74-b0767207af32"
      },
      "execution_count": 27,
      "outputs": [
        {
          "output_type": "display_data",
          "data": {
            "text/plain": [
              "<Figure size 640x480 with 1 Axes>"
            ],
            "image/png": "[encoded data removed]"
          },
          "metadata": {}
        }
      ]
    },
    {
      "cell_type": "code",
      "source": [
        "# Display predicted targets for the unseen data\n",
        "print(\"Predicted targets for the unseen data:\")\n",
        "print(Y_pred)\n"
      ],
      "metadata": {
        "colab": {
          "base_uri": "https://localhost:8080/"
        },
        "id": "1uYQX6jUMKHn",
        "outputId": "cef69809-ab9c-47f8-ebc1-8a6e81105287"
      },
      "execution_count": 28,
      "outputs": [
        {
          "output_type": "stream",
          "name": "stdout",
          "text": [
            "Predicted targets for the unseen data:\n",
            "[0 0 0 ... 0 0 0]\n"
          ]
        }
      ]
    },
    {
      "cell_type": "code",
      "source": [
        "# After training your model\n",
        "model.save('my_model.keras')  # Save in native Keras format\n",
        "\n",
        "# Later in your code (or a new session)\n",
        "from tensorflow.keras.models import load_model\n",
        "\n",
        "# Load the model\n",
        "loaded_model = load_model('my_model.keras')\n",
        "\n",
        "# Now you can use loaded_model for predictions or further training\n",
        "\n"
      ],
      "metadata": {
        "colab": {
          "base_uri": "https://localhost:8080/"
        },
        "id": "mDBfjqoJPcfl",
        "outputId": "96413ac0-ee14-4ffa-a906-99b47df772e5"
      },
      "execution_count": 30,
      "outputs": [
        {
          "output_type": "stream",
          "name": "stderr",
          "text": [
            "/usr/local/lib/python3.10/dist-packages/keras/src/saving/saving_lib.py:576: UserWarning: Skipping variable loading for optimizer 'rmsprop', because it has 8 variables whereas the saved optimizer has 14 variables. \n",
            "  saveable.load_own_variables(weights_store.get(inner_path))\n"
          ]
        }
      ]
    }
  ]
}